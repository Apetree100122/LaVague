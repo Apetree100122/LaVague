{
  "cells": [
    {
      "cell_type": "markdown",
      "metadata": {
        "id": "57cUBU_kW8YI"
      },
      "source": [
        "# LaVague"
      ]
    },
    {
      "cell_type": "markdown",
      "metadata": {
        "id": "0jo-qziepeOj"
      },
      "source": [
        "## Choosing an inference engine\n",
        "\n",
        "LaVague works with two kind of inference:\n",
        "- Local\n",
        "- API with Hugging Face Inference API\n",
        "\n",
        "Local model allows full control over the experience, but might be slower to setup.\n",
        "Starting with Hugging Face Inference API is good for a quick start but lacks flexibility and control.\n",
        "\n",
        "Both options work, but in this Colab notebook, it might take longer to run with local model as weights download can take a while."
      ]
    },
    {
      "cell_type": "markdown",
      "metadata": {
        "id": "WgcPzmqUyGwB"
      },
      "source": [
        "### Hugging Face Inference API\n",
        "\n",
        "To have a fast and low-cost experience, we will use [Hugging Face Inference for PRO users](https://huggingface.co/blog/inference-pro).\n",
        "\n",
        "You will need a Hugging Face Hub Token to use the ``Nous-Hermes-2-Mixtral-8x7B-DPO`` model from the Inference API. You can get one by signing up on the [Hugging Face Hub](https://huggingface.co/join).\n",
        "\n",
        "If you prefer using a local model, you can provide Action engine with a DefaultLocalLLM, or import the huggingface model of your choice. The default local model is ``HuggingFaceH4/zephyr-7b-gemma-v0.1``.\n",
        "\n",
        "We will use a ``bge-small-en-v1.5`` to perform semantic search, but you can provide the embedder of your choice."
      ]
    },
    {
      "cell_type": "code",
      "execution_count": null,
      "metadata": {},
      "outputs": [],
      "source": [
        "!pip install lavague"
      ]
    },
    {
      "cell_type": "markdown",
      "metadata": {
        "id": "12OBKO8X1Mer"
      },
      "source": [
        "We use a specific prompt template that leverages Few shot learning with Chain of Thought to ensure the model performs correctly for our use case of Selenium code generation.\n",
        "\n",
        "You can have a look at the template [here](https://github.com/dhuynh95/LaVague/blob/main/prompt_template.txt)."
      ]
    },
    {
      "cell_type": "markdown",
      "metadata": {
        "id": "2cu4DWoApeOl"
      },
      "source": [
        "## Code execution in action"
      ]
    },
    {
      "cell_type": "code",
      "execution_count": 1,
      "metadata": {
        "colab": {
          "base_uri": "https://localhost:8080/"
        },
        "id": "m37SBNKBVaok",
        "outputId": "ebda8b53-be99-49fd-ece1-c4ee4fa93f7b"
      },
      "outputs": [
        {
          "name": "stdout",
          "output_type": "stream",
          "text": [
            "\u001b[33mWARNING: Ignoring invalid distribution -ydantic (/home/mbrunel/LaVague/lavague-venv/lib/python3.8/site-packages)\u001b[0m\u001b[33m\n",
            "\u001b[0mRequirement already satisfied: gradio in /home/mbrunel/LaVague/lavague-venv/lib/python3.8/site-packages (4.21.0)\n",
            "Requirement already satisfied: aiofiles<24.0,>=22.0 in /home/mbrunel/LaVague/lavague-venv/lib/python3.8/site-packages (from gradio) (23.2.1)\n",
            "Requirement already satisfied: altair<6.0,>=4.2.0 in /home/mbrunel/LaVague/lavague-venv/lib/python3.8/site-packages (from gradio) (5.2.0)\n",
            "Requirement already satisfied: fastapi in /home/mbrunel/LaVague/lavague-venv/lib/python3.8/site-packages (from gradio) (0.110.0)\n",
            "Requirement already satisfied: ffmpy in /home/mbrunel/LaVague/lavague-venv/lib/python3.8/site-packages (from gradio) (0.3.2)\n",
            "Requirement already satisfied: gradio-client==0.12.0 in /home/mbrunel/LaVague/lavague-venv/lib/python3.8/site-packages (from gradio) (0.12.0)\n",
            "Requirement already satisfied: httpx>=0.24.1 in /home/mbrunel/LaVague/lavague-venv/lib/python3.8/site-packages (from gradio) (0.27.0)\n",
            "Requirement already satisfied: huggingface-hub>=0.19.3 in /home/mbrunel/LaVague/lavague-venv/lib/python3.8/site-packages (from gradio) (0.20.3)\n",
            "Requirement already satisfied: importlib-resources<7.0,>=1.3 in /home/mbrunel/LaVague/lavague-venv/lib/python3.8/site-packages (from gradio) (6.1.3)\n",
            "Requirement already satisfied: jinja2<4.0 in /home/mbrunel/LaVague/lavague-venv/lib/python3.8/site-packages (from gradio) (3.1.3)\n",
            "Requirement already satisfied: markupsafe~=2.0 in /home/mbrunel/LaVague/lavague-venv/lib/python3.8/site-packages (from gradio) (2.1.5)\n",
            "Requirement already satisfied: matplotlib~=3.0 in /home/mbrunel/LaVague/lavague-venv/lib/python3.8/site-packages (from gradio) (3.7.5)\n",
            "Requirement already satisfied: numpy~=1.0 in /home/mbrunel/LaVague/lavague-venv/lib/python3.8/site-packages (from gradio) (1.24.4)\n",
            "Requirement already satisfied: orjson~=3.0 in /home/mbrunel/LaVague/lavague-venv/lib/python3.8/site-packages (from gradio) (3.9.15)\n",
            "Requirement already satisfied: packaging in /home/mbrunel/LaVague/lavague-venv/lib/python3.8/site-packages (from gradio) (24.0)\n",
            "Requirement already satisfied: pandas<3.0,>=1.0 in /home/mbrunel/LaVague/lavague-venv/lib/python3.8/site-packages (from gradio) (2.0.3)\n",
            "Requirement already satisfied: pillow<11.0,>=8.0 in /home/mbrunel/LaVague/lavague-venv/lib/python3.8/site-packages (from gradio) (10.2.0)\n",
            "Requirement already satisfied: pydantic>=2.0 in /home/mbrunel/LaVague/lavague-venv/lib/python3.8/site-packages (from gradio) (2.6.4)\n",
            "Requirement already satisfied: pydub in /home/mbrunel/LaVague/lavague-venv/lib/python3.8/site-packages (from gradio) (0.25.1)\n",
            "Requirement already satisfied: python-multipart>=0.0.9 in /home/mbrunel/LaVague/lavague-venv/lib/python3.8/site-packages (from gradio) (0.0.9)\n",
            "Requirement already satisfied: pyyaml<7.0,>=5.0 in /home/mbrunel/LaVague/lavague-venv/lib/python3.8/site-packages (from gradio) (6.0.1)\n",
            "Requirement already satisfied: ruff>=0.2.2 in /home/mbrunel/LaVague/lavague-venv/lib/python3.8/site-packages (from gradio) (0.3.2)\n",
            "Requirement already satisfied: semantic-version~=2.0 in /home/mbrunel/LaVague/lavague-venv/lib/python3.8/site-packages (from gradio) (2.10.0)\n",
            "Requirement already satisfied: tomlkit==0.12.0 in /home/mbrunel/LaVague/lavague-venv/lib/python3.8/site-packages (from gradio) (0.12.0)\n",
            "Requirement already satisfied: typer<1.0,>=0.9 in /home/mbrunel/LaVague/lavague-venv/lib/python3.8/site-packages (from typer[all]<1.0,>=0.9->gradio) (0.9.0)\n",
            "Requirement already satisfied: typing-extensions~=4.0 in /home/mbrunel/LaVague/lavague-venv/lib/python3.8/site-packages (from gradio) (4.10.0)\n",
            "Requirement already satisfied: uvicorn>=0.14.0 in /home/mbrunel/LaVague/lavague-venv/lib/python3.8/site-packages (from gradio) (0.28.0)\n",
            "Requirement already satisfied: fsspec in /home/mbrunel/LaVague/lavague-venv/lib/python3.8/site-packages (from gradio-client==0.12.0->gradio) (2024.2.0)\n",
            "Requirement already satisfied: websockets<12.0,>=10.0 in /home/mbrunel/LaVague/lavague-venv/lib/python3.8/site-packages (from gradio-client==0.12.0->gradio) (11.0.3)\n",
            "Requirement already satisfied: jsonschema>=3.0 in /home/mbrunel/LaVague/lavague-venv/lib/python3.8/site-packages (from altair<6.0,>=4.2.0->gradio) (4.21.1)\n",
            "Requirement already satisfied: toolz in /home/mbrunel/LaVague/lavague-venv/lib/python3.8/site-packages (from altair<6.0,>=4.2.0->gradio) (0.12.1)\n",
            "Requirement already satisfied: anyio in /home/mbrunel/LaVague/lavague-venv/lib/python3.8/site-packages (from httpx>=0.24.1->gradio) (4.3.0)\n",
            "Requirement already satisfied: certifi in /home/mbrunel/LaVague/lavague-venv/lib/python3.8/site-packages (from httpx>=0.24.1->gradio) (2024.2.2)\n",
            "Requirement already satisfied: httpcore==1.* in /home/mbrunel/LaVague/lavague-venv/lib/python3.8/site-packages (from httpx>=0.24.1->gradio) (1.0.4)\n",
            "Requirement already satisfied: idna in /home/mbrunel/LaVague/lavague-venv/lib/python3.8/site-packages (from httpx>=0.24.1->gradio) (3.6)\n",
            "Requirement already satisfied: sniffio in /home/mbrunel/LaVague/lavague-venv/lib/python3.8/site-packages (from httpx>=0.24.1->gradio) (1.3.1)\n",
            "Requirement already satisfied: h11<0.15,>=0.13 in /home/mbrunel/LaVague/lavague-venv/lib/python3.8/site-packages (from httpcore==1.*->httpx>=0.24.1->gradio) (0.14.0)\n",
            "Requirement already satisfied: filelock in /home/mbrunel/LaVague/lavague-venv/lib/python3.8/site-packages (from huggingface-hub>=0.19.3->gradio) (3.13.1)\n",
            "Requirement already satisfied: requests in /home/mbrunel/LaVague/lavague-venv/lib/python3.8/site-packages (from huggingface-hub>=0.19.3->gradio) (2.31.0)\n",
            "Requirement already satisfied: tqdm>=4.42.1 in /home/mbrunel/LaVague/lavague-venv/lib/python3.8/site-packages (from huggingface-hub>=0.19.3->gradio) (4.66.2)\n",
            "Requirement already satisfied: zipp>=3.1.0 in /home/mbrunel/LaVague/lavague-venv/lib/python3.8/site-packages (from importlib-resources<7.0,>=1.3->gradio) (3.17.0)\n",
            "Requirement already satisfied: contourpy>=1.0.1 in /home/mbrunel/LaVague/lavague-venv/lib/python3.8/site-packages (from matplotlib~=3.0->gradio) (1.1.1)\n",
            "Requirement already satisfied: cycler>=0.10 in /home/mbrunel/LaVague/lavague-venv/lib/python3.8/site-packages (from matplotlib~=3.0->gradio) (0.12.1)\n",
            "Requirement already satisfied: fonttools>=4.22.0 in /home/mbrunel/LaVague/lavague-venv/lib/python3.8/site-packages (from matplotlib~=3.0->gradio) (4.49.0)\n",
            "Requirement already satisfied: kiwisolver>=1.0.1 in /home/mbrunel/LaVague/lavague-venv/lib/python3.8/site-packages (from matplotlib~=3.0->gradio) (1.4.5)\n",
            "Requirement already satisfied: pyparsing>=2.3.1 in /home/mbrunel/LaVague/lavague-venv/lib/python3.8/site-packages (from matplotlib~=3.0->gradio) (3.1.2)\n",
            "Requirement already satisfied: python-dateutil>=2.7 in /home/mbrunel/LaVague/lavague-venv/lib/python3.8/site-packages (from matplotlib~=3.0->gradio) (2.9.0.post0)\n",
            "Requirement already satisfied: pytz>=2020.1 in /home/mbrunel/LaVague/lavague-venv/lib/python3.8/site-packages (from pandas<3.0,>=1.0->gradio) (2024.1)\n",
            "Requirement already satisfied: tzdata>=2022.1 in /home/mbrunel/LaVague/lavague-venv/lib/python3.8/site-packages (from pandas<3.0,>=1.0->gradio) (2024.1)\n",
            "Requirement already satisfied: annotated-types>=0.4.0 in /home/mbrunel/LaVague/lavague-venv/lib/python3.8/site-packages (from pydantic>=2.0->gradio) (0.6.0)\n",
            "Requirement already satisfied: pydantic-core==2.16.3 in /home/mbrunel/LaVague/lavague-venv/lib/python3.8/site-packages (from pydantic>=2.0->gradio) (2.16.3)\n",
            "Requirement already satisfied: click<9.0.0,>=7.1.1 in /home/mbrunel/LaVague/lavague-venv/lib/python3.8/site-packages (from typer<1.0,>=0.9->typer[all]<1.0,>=0.9->gradio) (8.1.7)\n",
            "Requirement already satisfied: colorama<0.5.0,>=0.4.3 in /home/mbrunel/LaVague/lavague-venv/lib/python3.8/site-packages (from typer[all]<1.0,>=0.9->gradio) (0.4.6)\n",
            "Requirement already satisfied: shellingham<2.0.0,>=1.3.0 in /home/mbrunel/LaVague/lavague-venv/lib/python3.8/site-packages (from typer[all]<1.0,>=0.9->gradio) (1.5.4)\n",
            "Requirement already satisfied: rich<14.0.0,>=10.11.0 in /home/mbrunel/LaVague/lavague-venv/lib/python3.8/site-packages (from typer[all]<1.0,>=0.9->gradio) (13.7.1)\n",
            "Requirement already satisfied: starlette<0.37.0,>=0.36.3 in /home/mbrunel/LaVague/lavague-venv/lib/python3.8/site-packages (from fastapi->gradio) (0.36.3)\n",
            "Requirement already satisfied: attrs>=22.2.0 in /home/mbrunel/LaVague/lavague-venv/lib/python3.8/site-packages (from jsonschema>=3.0->altair<6.0,>=4.2.0->gradio) (23.2.0)\n",
            "Requirement already satisfied: jsonschema-specifications>=2023.03.6 in /home/mbrunel/LaVague/lavague-venv/lib/python3.8/site-packages (from jsonschema>=3.0->altair<6.0,>=4.2.0->gradio) (2023.12.1)\n",
            "Requirement already satisfied: pkgutil-resolve-name>=1.3.10 in /home/mbrunel/LaVague/lavague-venv/lib/python3.8/site-packages (from jsonschema>=3.0->altair<6.0,>=4.2.0->gradio) (1.3.10)\n",
            "Requirement already satisfied: referencing>=0.28.4 in /home/mbrunel/LaVague/lavague-venv/lib/python3.8/site-packages (from jsonschema>=3.0->altair<6.0,>=4.2.0->gradio) (0.33.0)\n",
            "Requirement already satisfied: rpds-py>=0.7.1 in /home/mbrunel/LaVague/lavague-venv/lib/python3.8/site-packages (from jsonschema>=3.0->altair<6.0,>=4.2.0->gradio) (0.18.0)\n",
            "Requirement already satisfied: six>=1.5 in /home/mbrunel/LaVague/lavague-venv/lib/python3.8/site-packages (from python-dateutil>=2.7->matplotlib~=3.0->gradio) (1.16.0)\n",
            "Requirement already satisfied: markdown-it-py>=2.2.0 in /home/mbrunel/LaVague/lavague-venv/lib/python3.8/site-packages (from rich<14.0.0,>=10.11.0->typer[all]<1.0,>=0.9->gradio) (3.0.0)\n",
            "Requirement already satisfied: pygments<3.0.0,>=2.13.0 in /home/mbrunel/LaVague/lavague-venv/lib/python3.8/site-packages (from rich<14.0.0,>=10.11.0->typer[all]<1.0,>=0.9->gradio) (2.17.2)\n",
            "Requirement already satisfied: exceptiongroup>=1.0.2 in /home/mbrunel/LaVague/lavague-venv/lib/python3.8/site-packages (from anyio->httpx>=0.24.1->gradio) (1.2.0)\n",
            "Requirement already satisfied: charset-normalizer<4,>=2 in /home/mbrunel/LaVague/lavague-venv/lib/python3.8/site-packages (from requests->huggingface-hub>=0.19.3->gradio) (3.3.2)\n",
            "Requirement already satisfied: urllib3<3,>=1.21.1 in /home/mbrunel/LaVague/lavague-venv/lib/python3.8/site-packages (from requests->huggingface-hub>=0.19.3->gradio) (2.2.1)\n",
            "Requirement already satisfied: mdurl~=0.1 in /home/mbrunel/LaVague/lavague-venv/lib/python3.8/site-packages (from markdown-it-py>=2.2.0->rich<14.0.0,>=10.11.0->typer[all]<1.0,>=0.9->gradio) (0.1.2)\n",
            "\u001b[33mWARNING: Ignoring invalid distribution -ydantic (/home/mbrunel/LaVague/lavague-venv/lib/python3.8/site-packages)\u001b[0m\u001b[33m\n",
            "\u001b[0m"
          ]
        }
      ],
      "source": [
        "!pip install gradio"
      ]
    },
    {
      "cell_type": "code",
      "execution_count": 2,
      "metadata": {
        "id": "e5k-Tw5EVZuA"
      },
      "outputs": [
        {
          "name": "stderr",
          "output_type": "stream",
          "text": [
            "/home/mbrunel/LaVague/lavague-venv/lib/python3.8/site-packages/tqdm/auto.py:21: TqdmWarning: IProgress not found. Please update jupyter and ipywidgets. See https://ipywidgets.readthedocs.io/en/stable/user_install.html\n",
            "  from .autonotebook import tqdm as notebook_tqdm\n"
          ]
        },
        {
          "ename": "ModuleNotFoundError",
          "evalue": "No module named 'defaults'",
          "output_type": "error",
          "traceback": [
            "\u001b[0;31m---------------------------------------------------------------------------\u001b[0m",
            "\u001b[0;31mModuleNotFoundError\u001b[0m                       Traceback (most recent call last)",
            "Cell \u001b[0;32mIn[2], line 7\u001b[0m\n\u001b[1;32m      5\u001b[0m \u001b[38;5;28;01mfrom\u001b[39;00m \u001b[38;5;21;01mselenium\u001b[39;00m\u001b[38;5;21;01m.\u001b[39;00m\u001b[38;5;21;01mwebdriver\u001b[39;00m\u001b[38;5;21;01m.\u001b[39;00m\u001b[38;5;21;01mchrome\u001b[39;00m\u001b[38;5;21;01m.\u001b[39;00m\u001b[38;5;21;01moptions\u001b[39;00m \u001b[38;5;28;01mimport\u001b[39;00m Options\n\u001b[1;32m      6\u001b[0m \u001b[38;5;28;01mfrom\u001b[39;00m \u001b[38;5;21;01mselenium\u001b[39;00m\u001b[38;5;21;01m.\u001b[39;00m\u001b[38;5;21;01mwebdriver\u001b[39;00m\u001b[38;5;21;01m.\u001b[39;00m\u001b[38;5;21;01mcommon\u001b[39;00m\u001b[38;5;21;01m.\u001b[39;00m\u001b[38;5;21;01mkeys\u001b[39;00m \u001b[38;5;28;01mimport\u001b[39;00m Keys\n\u001b[0;32m----> 7\u001b[0m \u001b[38;5;28;01mfrom\u001b[39;00m \u001b[38;5;21;01mlavague\u001b[39;00m\u001b[38;5;21;01m.\u001b[39;00m\u001b[38;5;21;01mActionEngine\u001b[39;00m \u001b[38;5;28;01mimport\u001b[39;00m ActionEngine\n\u001b[1;32m      9\u001b[0m MAX_CHARS \u001b[38;5;241m=\u001b[39m \u001b[38;5;241m1500\u001b[39m\n\u001b[1;32m     11\u001b[0m action_engine \u001b[38;5;241m=\u001b[39m ActionEngine()\n",
            "File \u001b[0;32m/home/mbrunel/LaVague/src/lavague/ActionEngine.py:8\u001b[0m\n\u001b[1;32m      6\u001b[0m \u001b[38;5;28;01mfrom\u001b[39;00m \u001b[38;5;21;01mllama_index\u001b[39;00m\u001b[38;5;21;01m.\u001b[39;00m\u001b[38;5;21;01mcore\u001b[39;00m \u001b[38;5;28;01mimport\u001b[39;00m get_response_synthesizer\n\u001b[1;32m      7\u001b[0m \u001b[38;5;28;01mfrom\u001b[39;00m \u001b[38;5;21;01mllama_index\u001b[39;00m\u001b[38;5;21;01m.\u001b[39;00m\u001b[38;5;21;01mcore\u001b[39;00m \u001b[38;5;28;01mimport\u001b[39;00m PromptTemplate\n\u001b[0;32m----> 8\u001b[0m \u001b[38;5;28;01mfrom\u001b[39;00m \u001b[38;5;21;01mdefaults\u001b[39;00m \u001b[38;5;28;01mimport\u001b[39;00m DefaultLLM, DefaultEmbedder\n\u001b[1;32m      9\u001b[0m \u001b[38;5;28;01mfrom\u001b[39;00m \u001b[38;5;21;01mdefault_prompt\u001b[39;00m \u001b[38;5;28;01mimport\u001b[39;00m DEFAULT_PROMPT\n\u001b[1;32m     11\u001b[0m MAX_CHARS \u001b[38;5;241m=\u001b[39m \u001b[38;5;241m1500\u001b[39m\n",
            "\u001b[0;31mModuleNotFoundError\u001b[0m: No module named 'defaults'"
          ]
        }
      ],
      "source": [
        "import gradio as gr\n",
        "from selenium import webdriver\n",
        "from selenium.webdriver.chrome.service import Service\n",
        "from selenium.webdriver.common.by import By\n",
        "from selenium.webdriver.chrome.options import Options\n",
        "from selenium.webdriver.common.keys import Keys\n",
        "from lavague.ActionEngine import ActionEngine\n",
        "\n",
        "MAX_CHARS = 1500\n",
        "\n",
        "action_engine = ActionEngine()\n",
        "\n",
        "## Setup chrome options\n",
        "chrome_options = Options()\n",
        "chrome_options.add_argument(\"--headless\") # Ensure GUI is off\n",
        "chrome_options.add_argument(\"--no-sandbox\")\n",
        "chrome_options.add_argument(\"--window-size=1600,900\")\n",
        "\n",
        "# Set path to chrome/chromedriver as per your configuration\n",
        "\n",
        "try:\n",
        "    import google.colab\n",
        "    chrome_options.binary_location = \"/content/chrome-linux64/chrome\"\n",
        "    webdriver_service = Service(\"/content/chromedriver-linux64/chromedriver\")\n",
        "except:\n",
        "    import os.path\n",
        "    homedir = os.path.expanduser(\"~\")\n",
        "    chrome_options.binary_location = f\"{homedir}/chrome-linux64/chrome\"\n",
        "    webdriver_service = Service(f\"{homedir}/chromedriver-linux64/chromedriver\")\n",
        "\n",
        "\n",
        "title = \"\"\"\n",
        "<div align=\"center\">\n",
        "  <h1>🌊 Welcome to LaVague</h1>\n",
        "  <p>Redefining internet surfing by transforming natural language instructions into seamless browser interactions.</p>\n",
        "</div>\n",
        "\"\"\"\n",
        "\n",
        "# Choose Chrome Browser\n",
        "driver = webdriver.Chrome(service=webdriver_service, options=chrome_options)\n",
        "\n",
        "# action_engine = ActionEngine(llm, embedder)\n",
        "\n",
        "def process_url(url):\n",
        "    driver.get(url)\n",
        "    driver.save_screenshot(\"screenshot.png\")\n",
        "    # This function is supposed to fetch and return the image from the URL.\n",
        "    # Placeholder function: replace with actual image fetching logic.\n",
        "    return \"screenshot.png\"\n",
        "\n",
        "def process_instruction(query):\n",
        "    state = driver.page_source\n",
        "    query_engine = action_engine.get_query_engine(state)\n",
        "    streaming_response = query_engine.query(query)\n",
        "\n",
        "    source_nodes = streaming_response.get_formatted_sources(MAX_CHARS)\n",
        "\n",
        "    response = \"\"\n",
        "\n",
        "    for text in streaming_response.response_gen:\n",
        "    # do something with text as they arrive.\n",
        "        response += text\n",
        "        yield response, source_nodes\n",
        "\n",
        "def exec_code(code):\n",
        "    code = code.split(\"```\")[0]\n",
        "    try:\n",
        "        exec(code)\n",
        "        return \"Successful code execution\", code\n",
        "    except Exception as e:\n",
        "        output = f\"Error in code execution: {str(e)}\"\n",
        "        return output, code\n",
        "\n",
        "def update_image_display(img):\n",
        "    driver.save_screenshot(\"screenshot.png\")\n",
        "    url = driver.current_url\n",
        "    return \"screenshot.png\", url\n",
        "\n",
        "def create_demo(base_url, instructions):\n",
        "  with gr.Blocks() as demo:\n",
        "      with gr.Row():\n",
        "          gr.HTML(title)\n",
        "      with gr.Row():\n",
        "          url_input = gr.Textbox(value=base_url, label=\"Enter URL and press 'Enter' to load the page.\")\n",
        "\n",
        "      with gr.Row():\n",
        "          with gr.Column(scale=8):\n",
        "              image_display = gr.Image(label=\"Browser\", interactive=False)\n",
        "\n",
        "          with gr.Column(scale=2):\n",
        "              text_area = gr.Textbox(label=\"Instructions\")\n",
        "              gr.Examples(examples=instructions, inputs=text_area,\n",
        "\n",
        "              )\n",
        "              generate_btn = gr.Button(value=\"Execute\")\n",
        "              code_display = gr.Code(label=\"Generated code\", language=\"python\",\n",
        "                                    lines=5, interactive=False)\n",
        "              with gr.Accordion(label=\"Logs\", open=False) as log_accordion:\n",
        "                  log_display = gr.Textbox(interactive=False)\n",
        "                  source_display = gr.Textbox(label=\"Retrieved nodes\", interactive=False)\n",
        "      # Linking components\n",
        "      url_input.submit(process_url, inputs=url_input, outputs=image_display)\n",
        "      generate_btn.click(process_instruction, inputs=text_area, outputs=[code_display, source_display]).then(\n",
        "          exec_code, inputs=code_display, outputs=[log_display, code_display]\n",
        "      ).then(\n",
        "          update_image_display, inputs=image_display, outputs=[image_display, url_input]\n",
        "      )\n",
        "  demo.launch(share=True)\n"
      ]
    },
    {
      "cell_type": "code",
      "execution_count": 7,
      "metadata": {
        "colab": {
          "base_uri": "https://localhost:8080/",
          "height": 591
        },
        "id": "9kPolvYHfFmA",
        "outputId": "828680f7-bd0e-456c-ec87-a308a0bb5454"
      },
      "outputs": [
        {
          "name": "stdout",
          "output_type": "stream",
          "text": [
            "Colab notebook detected. To show errors in colab notebook, set debug=True in launch()\n",
            "Running on public URL: https://4b591cac74e73f8c34.gradio.live\n",
            "\n",
            "This share link expires in 72 hours. For free permanent hosting and GPU upgrades, run `gradio deploy` from Terminal to deploy to Spaces (https://huggingface.co/spaces)\n"
          ]
        },
        {
          "data": {
            "text/html": [
              "<div><iframe src=\"https://4b591cac74e73f8c34.gradio.live\" width=\"100%\" height=\"500\" allow=\"autoplay; camera; microphone; clipboard-read; clipboard-write;\" frameborder=\"0\" allowfullscreen></iframe></div>"
            ],
            "text/plain": [
              "<IPython.core.display.HTML object>"
            ]
          },
          "metadata": {},
          "output_type": "display_data"
        }
      ],
      "source": [
        "base_url = \"https://huggingface.co/\"\n",
        "\n",
        "instructions = [\"Click on the Datasets item on the menu, between Models and Spaces\",\n",
        "                \"Click on the search bar 'Filter by name', type 'The Stack', and press 'Enter'\",\n",
        "                \"Scroll by 500 pixels\",]\n",
        "\n",
        "create_demo(base_url, instructions)"
      ]
    },
    {
      "cell_type": "code",
      "execution_count": 8,
      "metadata": {
        "colab": {
          "base_uri": "https://localhost:8080/",
          "height": 591
        },
        "id": "MrQ82tgr4_zt",
        "outputId": "0c1f0678-93cd-4cbf-db75-88d9988cdaf8"
      },
      "outputs": [
        {
          "name": "stdout",
          "output_type": "stream",
          "text": [
            "Colab notebook detected. To show errors in colab notebook, set debug=True in launch()\n",
            "Running on public URL: https://1de7fa38a8df824289.gradio.live\n",
            "\n",
            "This share link expires in 72 hours. For free permanent hosting and GPU upgrades, run `gradio deploy` from Terminal to deploy to Spaces (https://huggingface.co/spaces)\n"
          ]
        },
        {
          "data": {
            "text/html": [
              "<div><iframe src=\"https://1de7fa38a8df824289.gradio.live\" width=\"100%\" height=\"500\" allow=\"autoplay; camera; microphone; clipboard-read; clipboard-write;\" frameborder=\"0\" allowfullscreen></iframe></div>"
            ],
            "text/plain": [
              "<IPython.core.display.HTML object>"
            ]
          },
          "metadata": {},
          "output_type": "display_data"
        }
      ],
      "source": [
        "base_url = \"https://www.irs.gov/\"\n",
        "\n",
        "instructions = [\"Click on the 'Pay' item on the menu, between 'File' and 'Refunds'\",\n",
        "                \"Click on 'Pay Now with Direct Pay' just below 'Pay from your Bank Account'\",\n",
        "                \"Click on 'Make a Payment', just above 'Answers to common questions'\",]\n",
        "\n",
        "create_demo(base_url, instructions)"
      ]
    }
  ],
  "metadata": {
    "accelerator": "GPU",
    "colab": {
      "gpuType": "T4",
      "machine_shape": "hm",
      "provenance": []
    },
    "kernelspec": {
      "display_name": "Python 3",
      "name": "python3"
    },
    "language_info": {
      "codemirror_mode": {
        "name": "ipython",
        "version": 3
      },
      "file_extension": ".py",
      "mimetype": "text/x-python",
      "name": "python",
      "nbconvert_exporter": "python",
      "pygments_lexer": "ipython3",
      "version": "3.8.10"
    },
    "widgets": {
      "application/vnd.jupyter.widget-state+json": {
        "0d9126c291a04e8fb1ce30a7103197d1": {
          "model_module": "@jupyter-widgets/base",
          "model_module_version": "1.2.0",
          "model_name": "LayoutModel",
          "state": {
            "_model_module": "@jupyter-widgets/base",
            "_model_module_version": "1.2.0",
            "_model_name": "LayoutModel",
            "_view_count": null,
            "_view_module": "@jupyter-widgets/base",
            "_view_module_version": "1.2.0",
            "_view_name": "LayoutView",
            "align_content": null,
            "align_items": null,
            "align_self": null,
            "border": null,
            "bottom": null,
            "display": null,
            "flex": null,
            "flex_flow": null,
            "grid_area": null,
            "grid_auto_columns": null,
            "grid_auto_flow": null,
            "grid_auto_rows": null,
            "grid_column": null,
            "grid_gap": null,
            "grid_row": null,
            "grid_template_areas": null,
            "grid_template_columns": null,
            "grid_template_rows": null,
            "height": null,
            "justify_content": null,
            "justify_items": null,
            "left": null,
            "margin": null,
            "max_height": null,
            "max_width": null,
            "min_height": null,
            "min_width": null,
            "object_fit": null,
            "object_position": null,
            "order": null,
            "overflow": null,
            "overflow_x": null,
            "overflow_y": null,
            "padding": null,
            "right": null,
            "top": null,
            "visibility": null,
            "width": null
          }
        },
        "15c0d6723eba4298b61ddd67c1595f66": {
          "model_module": "@jupyter-widgets/controls",
          "model_module_version": "1.5.0",
          "model_name": "FloatProgressModel",
          "state": {
            "_dom_classes": [],
            "_model_module": "@jupyter-widgets/controls",
            "_model_module_version": "1.5.0",
            "_model_name": "FloatProgressModel",
            "_view_count": null,
            "_view_module": "@jupyter-widgets/controls",
            "_view_module_version": "1.5.0",
            "_view_name": "ProgressView",
            "bar_style": "success",
            "description": "",
            "description_tooltip": null,
            "layout": "IPY_MODEL_0d9126c291a04e8fb1ce30a7103197d1",
            "max": 4,
            "min": 0,
            "orientation": "horizontal",
            "style": "IPY_MODEL_a36c6df55813490a9e0b42b67a698327",
            "value": 4
          }
        },
        "2600f072828a4abf8e8ed51cd64f2dc2": {
          "model_module": "@jupyter-widgets/controls",
          "model_module_version": "1.5.0",
          "model_name": "HTMLModel",
          "state": {
            "_dom_classes": [],
            "_model_module": "@jupyter-widgets/controls",
            "_model_module_version": "1.5.0",
            "_model_name": "HTMLModel",
            "_view_count": null,
            "_view_module": "@jupyter-widgets/controls",
            "_view_module_version": "1.5.0",
            "_view_name": "HTMLView",
            "description": "",
            "description_tooltip": null,
            "layout": "IPY_MODEL_984f401572a645f7861db035993c806b",
            "placeholder": "​",
            "style": "IPY_MODEL_2ba0655ceb93417d859921bf08b5ec9d",
            "value": "Loading checkpoint shards: 100%"
          }
        },
        "2ba0655ceb93417d859921bf08b5ec9d": {
          "model_module": "@jupyter-widgets/controls",
          "model_module_version": "1.5.0",
          "model_name": "DescriptionStyleModel",
          "state": {
            "_model_module": "@jupyter-widgets/controls",
            "_model_module_version": "1.5.0",
            "_model_name": "DescriptionStyleModel",
            "_view_count": null,
            "_view_module": "@jupyter-widgets/base",
            "_view_module_version": "1.2.0",
            "_view_name": "StyleView",
            "description_width": ""
          }
        },
        "398c2359c137457b94fe7ed7b8c4b939": {
          "model_module": "@jupyter-widgets/controls",
          "model_module_version": "1.5.0",
          "model_name": "HBoxModel",
          "state": {
            "_dom_classes": [],
            "_model_module": "@jupyter-widgets/controls",
            "_model_module_version": "1.5.0",
            "_model_name": "HBoxModel",
            "_view_count": null,
            "_view_module": "@jupyter-widgets/controls",
            "_view_module_version": "1.5.0",
            "_view_name": "HBoxView",
            "box_style": "",
            "children": [
              "IPY_MODEL_2600f072828a4abf8e8ed51cd64f2dc2",
              "IPY_MODEL_15c0d6723eba4298b61ddd67c1595f66",
              "IPY_MODEL_d1a4215edd20433482d339c83c9d0060"
            ],
            "layout": "IPY_MODEL_c71a506bf63948c8bfb79b6811705de5"
          }
        },
        "777ac9bad3974a2ab7062644bda6a3c6": {
          "model_module": "@jupyter-widgets/controls",
          "model_module_version": "1.5.0",
          "model_name": "DescriptionStyleModel",
          "state": {
            "_model_module": "@jupyter-widgets/controls",
            "_model_module_version": "1.5.0",
            "_model_name": "DescriptionStyleModel",
            "_view_count": null,
            "_view_module": "@jupyter-widgets/base",
            "_view_module_version": "1.2.0",
            "_view_name": "StyleView",
            "description_width": ""
          }
        },
        "984f401572a645f7861db035993c806b": {
          "model_module": "@jupyter-widgets/base",
          "model_module_version": "1.2.0",
          "model_name": "LayoutModel",
          "state": {
            "_model_module": "@jupyter-widgets/base",
            "_model_module_version": "1.2.0",
            "_model_name": "LayoutModel",
            "_view_count": null,
            "_view_module": "@jupyter-widgets/base",
            "_view_module_version": "1.2.0",
            "_view_name": "LayoutView",
            "align_content": null,
            "align_items": null,
            "align_self": null,
            "border": null,
            "bottom": null,
            "display": null,
            "flex": null,
            "flex_flow": null,
            "grid_area": null,
            "grid_auto_columns": null,
            "grid_auto_flow": null,
            "grid_auto_rows": null,
            "grid_column": null,
            "grid_gap": null,
            "grid_row": null,
            "grid_template_areas": null,
            "grid_template_columns": null,
            "grid_template_rows": null,
            "height": null,
            "justify_content": null,
            "justify_items": null,
            "left": null,
            "margin": null,
            "max_height": null,
            "max_width": null,
            "min_height": null,
            "min_width": null,
            "object_fit": null,
            "object_position": null,
            "order": null,
            "overflow": null,
            "overflow_x": null,
            "overflow_y": null,
            "padding": null,
            "right": null,
            "top": null,
            "visibility": null,
            "width": null
          }
        },
        "a36c6df55813490a9e0b42b67a698327": {
          "model_module": "@jupyter-widgets/controls",
          "model_module_version": "1.5.0",
          "model_name": "ProgressStyleModel",
          "state": {
            "_model_module": "@jupyter-widgets/controls",
            "_model_module_version": "1.5.0",
            "_model_name": "ProgressStyleModel",
            "_view_count": null,
            "_view_module": "@jupyter-widgets/base",
            "_view_module_version": "1.2.0",
            "_view_name": "StyleView",
            "bar_color": null,
            "description_width": ""
          }
        },
        "c71a506bf63948c8bfb79b6811705de5": {
          "model_module": "@jupyter-widgets/base",
          "model_module_version": "1.2.0",
          "model_name": "LayoutModel",
          "state": {
            "_model_module": "@jupyter-widgets/base",
            "_model_module_version": "1.2.0",
            "_model_name": "LayoutModel",
            "_view_count": null,
            "_view_module": "@jupyter-widgets/base",
            "_view_module_version": "1.2.0",
            "_view_name": "LayoutView",
            "align_content": null,
            "align_items": null,
            "align_self": null,
            "border": null,
            "bottom": null,
            "display": null,
            "flex": null,
            "flex_flow": null,
            "grid_area": null,
            "grid_auto_columns": null,
            "grid_auto_flow": null,
            "grid_auto_rows": null,
            "grid_column": null,
            "grid_gap": null,
            "grid_row": null,
            "grid_template_areas": null,
            "grid_template_columns": null,
            "grid_template_rows": null,
            "height": null,
            "justify_content": null,
            "justify_items": null,
            "left": null,
            "margin": null,
            "max_height": null,
            "max_width": null,
            "min_height": null,
            "min_width": null,
            "object_fit": null,
            "object_position": null,
            "order": null,
            "overflow": null,
            "overflow_x": null,
            "overflow_y": null,
            "padding": null,
            "right": null,
            "top": null,
            "visibility": null,
            "width": null
          }
        },
        "d1a4215edd20433482d339c83c9d0060": {
          "model_module": "@jupyter-widgets/controls",
          "model_module_version": "1.5.0",
          "model_name": "HTMLModel",
          "state": {
            "_dom_classes": [],
            "_model_module": "@jupyter-widgets/controls",
            "_model_module_version": "1.5.0",
            "_model_name": "HTMLModel",
            "_view_count": null,
            "_view_module": "@jupyter-widgets/controls",
            "_view_module_version": "1.5.0",
            "_view_name": "HTMLView",
            "description": "",
            "description_tooltip": null,
            "layout": "IPY_MODEL_ec5d092ea24946279f14f03570a48c98",
            "placeholder": "​",
            "style": "IPY_MODEL_777ac9bad3974a2ab7062644bda6a3c6",
            "value": " 4/4 [00:12&lt;00:00,  2.89s/it]"
          }
        },
        "ec5d092ea24946279f14f03570a48c98": {
          "model_module": "@jupyter-widgets/base",
          "model_module_version": "1.2.0",
          "model_name": "LayoutModel",
          "state": {
            "_model_module": "@jupyter-widgets/base",
            "_model_module_version": "1.2.0",
            "_model_name": "LayoutModel",
            "_view_count": null,
            "_view_module": "@jupyter-widgets/base",
            "_view_module_version": "1.2.0",
            "_view_name": "LayoutView",
            "align_content": null,
            "align_items": null,
            "align_self": null,
            "border": null,
            "bottom": null,
            "display": null,
            "flex": null,
            "flex_flow": null,
            "grid_area": null,
            "grid_auto_columns": null,
            "grid_auto_flow": null,
            "grid_auto_rows": null,
            "grid_column": null,
            "grid_gap": null,
            "grid_row": null,
            "grid_template_areas": null,
            "grid_template_columns": null,
            "grid_template_rows": null,
            "height": null,
            "justify_content": null,
            "justify_items": null,
            "left": null,
            "margin": null,
            "max_height": null,
            "max_width": null,
            "min_height": null,
            "min_width": null,
            "object_fit": null,
            "object_position": null,
            "order": null,
            "overflow": null,
            "overflow_x": null,
            "overflow_y": null,
            "padding": null,
            "right": null,
            "top": null,
            "visibility": null,
            "width": null
          }
        }
      }
    }
  },
  "nbformat": 4,
  "nbformat_minor": 0
}
