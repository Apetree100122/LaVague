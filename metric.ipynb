{
 "cells": [
  {
   "cell_type": "code",
   "execution_count": 2,
   "metadata": {},
   "outputs": [],
   "source": [
    "%load_ext autoreload\n",
    "%autoreload 2"
   ]
  },
  {
   "cell_type": "code",
   "execution_count": 3,
   "metadata": {},
   "outputs": [],
   "source": [
    "import os\n",
    "from llama_index.llms.azure_openai import AzureOpenAI\n",
    "from llama_index.embeddings.huggingface import HuggingFaceEmbedding\n",
    "\n",
    "\n",
    "api_key=os.getenv(\"AZURE_OPENAI_KEY\")\n",
    "api_version=\"2024-02-15-preview\"\n",
    "azure_endpoint = os.getenv(\"AZURE_OPENAI_ENDPOINT\")\n",
    "model = \"gpt-35-turbo\"\n",
    "deployment_name = \"gpt-35-turbo\"\n",
    "\n",
    "LOCAL_EMBED_MODEL = \"BAAI/bge-small-en-v1.5\"\n",
    "\n",
    "class Embedder(HuggingFaceEmbedding):\n",
    "    def __init__(self, model_name: str = LOCAL_EMBED_MODEL, device: str = \"cuda\"):\n",
    "        super().__init__(model_name, device)\n",
    "\n",
    "class LLM(AzureOpenAI):\n",
    "    def __init__(self):\n",
    "        super().__init__(\n",
    "            model=deployment_name,\n",
    "            deployment_name=deployment_name,\n",
    "            api_key=api_key,\n",
    "            azure_endpoint=azure_endpoint,\n",
    "            api_version=api_version,\n",
    "            temperature=0.0\n",
    "        )\n",
    "llm = LLM()\n",
    "embedder = Embedder()"
   ]
  },
  {
   "cell_type": "code",
   "execution_count": 4,
   "metadata": {},
   "outputs": [],
   "source": [
    "from lavague.action_engine import ActionEngine\n",
    "\n",
    "action_engine = ActionEngine(llm, embedder)"
   ]
  },
  {
   "cell_type": "code",
   "execution_count": 5,
   "metadata": {},
   "outputs": [],
   "source": [
    "from lavague.defaults import evaluation_get_selenium_driver\n",
    "\n",
    "get_driver = evaluation_get_selenium_driver\n",
    "lavague_driver = get_driver()\n",
    "_, driver = lavague_driver.getDriver()"
   ]
  },
  {
   "cell_type": "code",
   "execution_count": 6,
   "metadata": {},
   "outputs": [
    {
     "data": {
      "text/html": [
       "<div>\n",
       "<style scoped>\n",
       "    .dataframe tbody tr th:only-of-type {\n",
       "        vertical-align: middle;\n",
       "    }\n",
       "\n",
       "    .dataframe tbody tr th {\n",
       "        vertical-align: top;\n",
       "    }\n",
       "\n",
       "    .dataframe thead th {\n",
       "        text-align: right;\n",
       "    }\n",
       "</style>\n",
       "<table border=\"1\" class=\"dataframe\">\n",
       "  <thead>\n",
       "    <tr style=\"text-align: right;\">\n",
       "      <th></th>\n",
       "      <th>query</th>\n",
       "      <th>url</th>\n",
       "      <th>html</th>\n",
       "      <th>selenium_ground_truth</th>\n",
       "      <th>ground_truth_outer_html</th>\n",
       "      <th>ground_truth_highlighted_screenshot</th>\n",
       "    </tr>\n",
       "  </thead>\n",
       "  <tbody>\n",
       "    <tr>\n",
       "      <th>0</th>\n",
       "      <td>click on create account</td>\n",
       "      <td>https://en.wikipedia.org/wiki/Main_Page</td>\n",
       "      <td>&lt;html class=\"client-js vector-feature-language...</td>\n",
       "      <td>create_account_link = driver.find_element(By.X...</td>\n",
       "      <td>&lt;li id=\"pt-createaccount-2\" class=\"user-links-...</td>\n",
       "      <td>iVBORw0KGgoAAAANSUhEUgAABkAAAAOECAYAAAD5Tf2iAA...</td>\n",
       "    </tr>\n",
       "    <tr>\n",
       "      <th>1</th>\n",
       "      <td>click on past</td>\n",
       "      <td>https://news.ycombinator.com/</td>\n",
       "      <td>&lt;html lang=\"en\" op=\"news\"&gt;&lt;head&gt;&lt;meta name=\"re...</td>\n",
       "      <td>link_to_click = driver.find_element(By.LINK_TE...</td>\n",
       "      <td>&lt;a href=\"front\"&gt;past&lt;/a&gt;</td>\n",
       "      <td>iVBORw0KGgoAAAANSUhEUgAABkAAAAOECAYAAAD5Tf2iAA...</td>\n",
       "    </tr>\n",
       "    <tr>\n",
       "      <th>2</th>\n",
       "      <td>click on pricing</td>\n",
       "      <td>https://www.perfagents.com/</td>\n",
       "      <td>&lt;html lang=\"en\"&gt;&lt;head&gt;\\n    &lt;meta charset=\"utf...</td>\n",
       "      <td>pricing_link = driver.find_element(By.XPATH, \"...</td>\n",
       "      <td>&lt;a class=\"font-medium px-3 lg:px-5 py-2 items-...</td>\n",
       "      <td>iVBORw0KGgoAAAANSUhEUgAABkAAAAOECAYAAAD5Tf2iAA...</td>\n",
       "    </tr>\n",
       "    <tr>\n",
       "      <th>3</th>\n",
       "      <td>click on SPF Justice</td>\n",
       "      <td>https://justice.belgium.be/fr</td>\n",
       "      <td>&lt;html lang=\"fr\" dir=\"ltr\" prefix=\"content: htt...</td>\n",
       "      <td>spf_justice_link = driver.find_element(By.XPAT...</td>\n",
       "      <td>&lt;span&gt;SPF Justice&lt;/span&gt;</td>\n",
       "      <td>iVBORw0KGgoAAAANSUhEUgAABkAAAAOECAYAAAD5Tf2iAA...</td>\n",
       "    </tr>\n",
       "    <tr>\n",
       "      <th>4</th>\n",
       "      <td>click on Search</td>\n",
       "      <td>https://www.cancer.gov/publications/dictionari...</td>\n",
       "      <td>&lt;html lang=\"en\" dir=\"ltr\" prefix=\"og: https://...</td>\n",
       "      <td>search_button = driver.find_element(By.XPATH, ...</td>\n",
       "      <td>&lt;input type=\"submit\" class=\"submit button post...</td>\n",
       "      <td>iVBORw0KGgoAAAANSUhEUgAABkAAAAOECAYAAAD5Tf2iAA...</td>\n",
       "    </tr>\n",
       "  </tbody>\n",
       "</table>\n",
       "</div>"
      ],
      "text/plain": [
       "                     query                                                url  \\\n",
       "0  click on create account            https://en.wikipedia.org/wiki/Main_Page   \n",
       "1            click on past                      https://news.ycombinator.com/   \n",
       "2         click on pricing                        https://www.perfagents.com/   \n",
       "3     click on SPF Justice                      https://justice.belgium.be/fr   \n",
       "4          click on Search  https://www.cancer.gov/publications/dictionari...   \n",
       "\n",
       "                                                html  \\\n",
       "0  <html class=\"client-js vector-feature-language...   \n",
       "1  <html lang=\"en\" op=\"news\"><head><meta name=\"re...   \n",
       "2  <html lang=\"en\"><head>\\n    <meta charset=\"utf...   \n",
       "3  <html lang=\"fr\" dir=\"ltr\" prefix=\"content: htt...   \n",
       "4  <html lang=\"en\" dir=\"ltr\" prefix=\"og: https://...   \n",
       "\n",
       "                               selenium_ground_truth  \\\n",
       "0  create_account_link = driver.find_element(By.X...   \n",
       "1  link_to_click = driver.find_element(By.LINK_TE...   \n",
       "2  pricing_link = driver.find_element(By.XPATH, \"...   \n",
       "3  spf_justice_link = driver.find_element(By.XPAT...   \n",
       "4  search_button = driver.find_element(By.XPATH, ...   \n",
       "\n",
       "                             ground_truth_outer_html  \\\n",
       "0  <li id=\"pt-createaccount-2\" class=\"user-links-...   \n",
       "1                           <a href=\"front\">past</a>   \n",
       "2  <a class=\"font-medium px-3 lg:px-5 py-2 items-...   \n",
       "3                           <span>SPF Justice</span>   \n",
       "4  <input type=\"submit\" class=\"submit button post...   \n",
       "\n",
       "                 ground_truth_highlighted_screenshot  \n",
       "0  iVBORw0KGgoAAAANSUhEUgAABkAAAAOECAYAAAD5Tf2iAA...  \n",
       "1  iVBORw0KGgoAAAANSUhEUgAABkAAAAOECAYAAAD5Tf2iAA...  \n",
       "2  iVBORw0KGgoAAAANSUhEUgAABkAAAAOECAYAAAD5Tf2iAA...  \n",
       "3  iVBORw0KGgoAAAANSUhEUgAABkAAAAOECAYAAAD5Tf2iAA...  \n",
       "4  iVBORw0KGgoAAAANSUhEUgAABkAAAAOECAYAAAD5Tf2iAA...  "
      ]
     },
     "execution_count": 6,
     "metadata": {},
     "output_type": "execute_result"
    }
   ],
   "source": [
    "import pandas as pd \n",
    "from datasets import load_dataset\n",
    "\n",
    "dataset = load_dataset(\"BigAction/the-wave-clean\")\n",
    "\n",
    "df = dataset[\"test\"].to_pandas()\n",
    "df.head(5)"
   ]
  },
  {
   "cell_type": "markdown",
   "metadata": {},
   "source": [
    "# Evaluation of retriever only"
   ]
  },
  {
   "cell_type": "code",
   "execution_count": 10,
   "metadata": {},
   "outputs": [
    {
     "name": "stderr",
     "output_type": "stream",
     "text": [
      "0it [00:00, ?it/s]/home/daniel/miniconda3/envs/lavague/lib/python3.10/site-packages/tree_sitter/__init__.py:36: FutureWarning: Language(path, name) is deprecated. Use Language(ptr, name) instead.\n",
      "  warn(\"{} is deprecated. Use {} instead.\".format(old, new), FutureWarning)\n",
      "1it [00:01,  1.31s/it]/home/daniel/miniconda3/envs/lavague/lib/python3.10/site-packages/tree_sitter/__init__.py:36: FutureWarning: Language(path, name) is deprecated. Use Language(ptr, name) instead.\n",
      "  warn(\"{} is deprecated. Use {} instead.\".format(old, new), FutureWarning)\n",
      "2it [00:01,  1.23it/s]/home/daniel/miniconda3/envs/lavague/lib/python3.10/site-packages/tree_sitter/__init__.py:36: FutureWarning: Language(path, name) is deprecated. Use Language(ptr, name) instead.\n",
      "  warn(\"{} is deprecated. Use {} instead.\".format(old, new), FutureWarning)\n",
      "3it [00:03,  1.45s/it]/home/daniel/miniconda3/envs/lavague/lib/python3.10/site-packages/tree_sitter/__init__.py:36: FutureWarning: Language(path, name) is deprecated. Use Language(ptr, name) instead.\n",
      "  warn(\"{} is deprecated. Use {} instead.\".format(old, new), FutureWarning)\n",
      "4it [00:05,  1.40s/it]/home/daniel/miniconda3/envs/lavague/lib/python3.10/site-packages/tree_sitter/__init__.py:36: FutureWarning: Language(path, name) is deprecated. Use Language(ptr, name) instead.\n",
      "  warn(\"{} is deprecated. Use {} instead.\".format(old, new), FutureWarning)\n",
      "5it [00:05,  1.17s/it]\n"
     ]
    },
    {
     "data": {
      "text/html": [
       "<div>\n",
       "<style scoped>\n",
       "    .dataframe tbody tr th:only-of-type {\n",
       "        vertical-align: middle;\n",
       "    }\n",
       "\n",
       "    .dataframe tbody tr th {\n",
       "        vertical-align: top;\n",
       "    }\n",
       "\n",
       "    .dataframe thead th {\n",
       "        text-align: right;\n",
       "    }\n",
       "</style>\n",
       "<table border=\"1\" class=\"dataframe\">\n",
       "  <thead>\n",
       "    <tr style=\"text-align: right;\">\n",
       "      <th></th>\n",
       "      <th>recall_retriever</th>\n",
       "      <th>precision_retriever</th>\n",
       "      <th>retrieved_context</th>\n",
       "      <th>ground_truth_outer_html</th>\n",
       "      <th>retriever_time</th>\n",
       "    </tr>\n",
       "  </thead>\n",
       "  <tbody>\n",
       "    <tr>\n",
       "      <th>0</th>\n",
       "      <td>1.0</td>\n",
       "      <td>0.083333</td>\n",
       "      <td>&lt;div backend_node_id=\"139\" class=\"vector-menu ...</td>\n",
       "      <td>&lt;li backend_node_id=\"142\" class=\"user-links-co...</td>\n",
       "      <td>1.202136</td>\n",
       "    </tr>\n",
       "    <tr>\n",
       "      <th>1</th>\n",
       "      <td>1.0</td>\n",
       "      <td>0.030303</td>\n",
       "      <td>&lt;tbody backend_node_id=\"12\"&gt;&lt;tr backend_node_i...</td>\n",
       "      <td>&lt;a backend_node_id=\"26\" href=\"front\"&gt;past&lt;/a&gt;</td>\n",
       "      <td>0.396611</td>\n",
       "    </tr>\n",
       "    <tr>\n",
       "      <th>2</th>\n",
       "      <td>1.0</td>\n",
       "      <td>0.050000</td>\n",
       "      <td>&lt;div backend_node_id=\"78\" class=\"termly-styles...</td>\n",
       "      <td>&lt;a backend_node_id=\"103\" class=\"font-medium px...</td>\n",
       "      <td>2.135186</td>\n",
       "    </tr>\n",
       "    <tr>\n",
       "      <th>3</th>\n",
       "      <td>1.0</td>\n",
       "      <td>0.041667</td>\n",
       "      <td>_id=\"205\"&gt;Depuis le 01/01/2024, la Belgique as...</td>\n",
       "      <td>&lt;span backend_node_id=\"170\"&gt;SPF Justice&lt;/span&gt;</td>\n",
       "      <td>1.048980</td>\n",
       "    </tr>\n",
       "    <tr>\n",
       "      <th>4</th>\n",
       "      <td>0.0</td>\n",
       "      <td>0.000000</td>\n",
       "      <td>&lt;form action=\"/search/results\" backend_node_id...</td>\n",
       "      <td>&lt;input backend_node_id=\"184\" class=\"submit but...</td>\n",
       "      <td>0.491387</td>\n",
       "    </tr>\n",
       "  </tbody>\n",
       "</table>\n",
       "</div>"
      ],
      "text/plain": [
       "   recall_retriever  precision_retriever  \\\n",
       "0               1.0             0.083333   \n",
       "1               1.0             0.030303   \n",
       "2               1.0             0.050000   \n",
       "3               1.0             0.041667   \n",
       "4               0.0             0.000000   \n",
       "\n",
       "                                   retrieved_context  \\\n",
       "0  <div backend_node_id=\"139\" class=\"vector-menu ...   \n",
       "1  <tbody backend_node_id=\"12\"><tr backend_node_i...   \n",
       "2  <div backend_node_id=\"78\" class=\"termly-styles...   \n",
       "3  _id=\"205\">Depuis le 01/01/2024, la Belgique as...   \n",
       "4  <form action=\"/search/results\" backend_node_id...   \n",
       "\n",
       "                             ground_truth_outer_html  retriever_time  \n",
       "0  <li backend_node_id=\"142\" class=\"user-links-co...        1.202136  \n",
       "1      <a backend_node_id=\"26\" href=\"front\">past</a>        0.396611  \n",
       "2  <a backend_node_id=\"103\" class=\"font-medium px...        2.135186  \n",
       "3     <span backend_node_id=\"170\">SPF Justice</span>        1.048980  \n",
       "4  <input backend_node_id=\"184\" class=\"submit but...        0.491387  "
      ]
     },
     "execution_count": 10,
     "metadata": {},
     "output_type": "execute_result"
    }
   ],
   "source": [
    "from lavague.evaluator import SeleniumActionEvaluator\n",
    "\n",
    "evaluator = SeleniumActionEvaluator(driver, action_engine)\n",
    "\n",
    "sub_df = df.head(5)\n",
    "queries = sub_df[\"query\"].tolist()\n",
    "htmls = sub_df[\"html\"].tolist()\n",
    "ground_truths = sub_df[\"selenium_ground_truth\"].tolist()\n",
    "\n",
    "retriever_results = evaluator.batch_evaluate_retriever(queries, htmls, ground_truths, return_context=True)\n",
    "retriever_results"
   ]
  },
  {
   "cell_type": "markdown",
   "metadata": {},
   "source": [
    "# Evaluation of LLM only"
   ]
  },
  {
   "cell_type": "code",
   "execution_count": 11,
   "metadata": {},
   "outputs": [
    {
     "name": "stderr",
     "output_type": "stream",
     "text": [
      "0it [00:00, ?it/s]"
     ]
    },
    {
     "name": "stderr",
     "output_type": "stream",
     "text": [
      "5it [00:05,  1.11s/it]\n"
     ]
    },
    {
     "data": {
      "text/html": [
       "<div>\n",
       "<style scoped>\n",
       "    .dataframe tbody tr th:only-of-type {\n",
       "        vertical-align: middle;\n",
       "    }\n",
       "\n",
       "    .dataframe tbody tr th {\n",
       "        vertical-align: top;\n",
       "    }\n",
       "\n",
       "    .dataframe thead th {\n",
       "        text-align: right;\n",
       "    }\n",
       "</style>\n",
       "<table border=\"1\" class=\"dataframe\">\n",
       "  <thead>\n",
       "    <tr style=\"text-align: right;\">\n",
       "      <th></th>\n",
       "      <th>recall_llm</th>\n",
       "      <th>precision_llm</th>\n",
       "      <th>llm_time</th>\n",
       "    </tr>\n",
       "  </thead>\n",
       "  <tbody>\n",
       "    <tr>\n",
       "      <th>0</th>\n",
       "      <td>0.0</td>\n",
       "      <td>0.0</td>\n",
       "      <td>1.421249</td>\n",
       "    </tr>\n",
       "    <tr>\n",
       "      <th>1</th>\n",
       "      <td>1.0</td>\n",
       "      <td>1.0</td>\n",
       "      <td>0.874844</td>\n",
       "    </tr>\n",
       "    <tr>\n",
       "      <th>2</th>\n",
       "      <td>1.0</td>\n",
       "      <td>1.0</td>\n",
       "      <td>0.774487</td>\n",
       "    </tr>\n",
       "    <tr>\n",
       "      <th>3</th>\n",
       "      <td>0.0</td>\n",
       "      <td>0.0</td>\n",
       "      <td>0.821771</td>\n",
       "    </tr>\n",
       "    <tr>\n",
       "      <th>4</th>\n",
       "      <td>1.0</td>\n",
       "      <td>1.0</td>\n",
       "      <td>0.694846</td>\n",
       "    </tr>\n",
       "  </tbody>\n",
       "</table>\n",
       "</div>"
      ],
      "text/plain": [
       "   recall_llm  precision_llm  llm_time\n",
       "0         0.0            0.0  1.421249\n",
       "1         1.0            1.0  0.874844\n",
       "2         1.0            1.0  0.774487\n",
       "3         0.0            0.0  0.821771\n",
       "4         1.0            1.0  0.694846"
      ]
     },
     "execution_count": 11,
     "metadata": {},
     "output_type": "execute_result"
    }
   ],
   "source": [
    "ground_truth_outer_htmls = retriever_results[\"ground_truth_outer_html\"].tolist()\n",
    "retrieved_contexts = retriever_results[\"retrieved_context\"].tolist()\n",
    "\n",
    "llm_results = evaluator.batch_evaluate_llm(queries, htmls, ground_truth_outer_htmls, retrieved_contexts)\n",
    "llm_results"
   ]
  },
  {
   "cell_type": "code",
   "execution_count": 12,
   "metadata": {},
   "outputs": [
    {
     "data": {
      "text/html": [
       "<div>\n",
       "<style scoped>\n",
       "    .dataframe tbody tr th:only-of-type {\n",
       "        vertical-align: middle;\n",
       "    }\n",
       "\n",
       "    .dataframe tbody tr th {\n",
       "        vertical-align: top;\n",
       "    }\n",
       "\n",
       "    .dataframe thead th {\n",
       "        text-align: right;\n",
       "    }\n",
       "</style>\n",
       "<table border=\"1\" class=\"dataframe\">\n",
       "  <thead>\n",
       "    <tr style=\"text-align: right;\">\n",
       "      <th></th>\n",
       "      <th>recall_retriever</th>\n",
       "      <th>precision_retriever</th>\n",
       "      <th>retrieved_context</th>\n",
       "      <th>ground_truth_outer_html</th>\n",
       "      <th>retriever_time</th>\n",
       "      <th>recall_llm</th>\n",
       "      <th>precision_llm</th>\n",
       "      <th>llm_time</th>\n",
       "    </tr>\n",
       "  </thead>\n",
       "  <tbody>\n",
       "    <tr>\n",
       "      <th>0</th>\n",
       "      <td>1.0</td>\n",
       "      <td>0.083333</td>\n",
       "      <td>&lt;div backend_node_id=\"139\" class=\"vector-menu ...</td>\n",
       "      <td>&lt;li backend_node_id=\"142\" class=\"user-links-co...</td>\n",
       "      <td>1.202136</td>\n",
       "      <td>0.0</td>\n",
       "      <td>0.0</td>\n",
       "      <td>1.421249</td>\n",
       "    </tr>\n",
       "    <tr>\n",
       "      <th>1</th>\n",
       "      <td>1.0</td>\n",
       "      <td>0.030303</td>\n",
       "      <td>&lt;tbody backend_node_id=\"12\"&gt;&lt;tr backend_node_i...</td>\n",
       "      <td>&lt;a backend_node_id=\"26\" href=\"front\"&gt;past&lt;/a&gt;</td>\n",
       "      <td>0.396611</td>\n",
       "      <td>1.0</td>\n",
       "      <td>1.0</td>\n",
       "      <td>0.874844</td>\n",
       "    </tr>\n",
       "    <tr>\n",
       "      <th>2</th>\n",
       "      <td>1.0</td>\n",
       "      <td>0.050000</td>\n",
       "      <td>&lt;div backend_node_id=\"78\" class=\"termly-styles...</td>\n",
       "      <td>&lt;a backend_node_id=\"103\" class=\"font-medium px...</td>\n",
       "      <td>2.135186</td>\n",
       "      <td>1.0</td>\n",
       "      <td>1.0</td>\n",
       "      <td>0.774487</td>\n",
       "    </tr>\n",
       "    <tr>\n",
       "      <th>3</th>\n",
       "      <td>1.0</td>\n",
       "      <td>0.041667</td>\n",
       "      <td>_id=\"205\"&gt;Depuis le 01/01/2024, la Belgique as...</td>\n",
       "      <td>&lt;span backend_node_id=\"170\"&gt;SPF Justice&lt;/span&gt;</td>\n",
       "      <td>1.048980</td>\n",
       "      <td>0.0</td>\n",
       "      <td>0.0</td>\n",
       "      <td>0.821771</td>\n",
       "    </tr>\n",
       "    <tr>\n",
       "      <th>4</th>\n",
       "      <td>0.0</td>\n",
       "      <td>0.000000</td>\n",
       "      <td>&lt;form action=\"/search/results\" backend_node_id...</td>\n",
       "      <td>&lt;input backend_node_id=\"184\" class=\"submit but...</td>\n",
       "      <td>0.491387</td>\n",
       "      <td>1.0</td>\n",
       "      <td>1.0</td>\n",
       "      <td>0.694846</td>\n",
       "    </tr>\n",
       "  </tbody>\n",
       "</table>\n",
       "</div>"
      ],
      "text/plain": [
       "   recall_retriever  precision_retriever  \\\n",
       "0               1.0             0.083333   \n",
       "1               1.0             0.030303   \n",
       "2               1.0             0.050000   \n",
       "3               1.0             0.041667   \n",
       "4               0.0             0.000000   \n",
       "\n",
       "                                   retrieved_context  \\\n",
       "0  <div backend_node_id=\"139\" class=\"vector-menu ...   \n",
       "1  <tbody backend_node_id=\"12\"><tr backend_node_i...   \n",
       "2  <div backend_node_id=\"78\" class=\"termly-styles...   \n",
       "3  _id=\"205\">Depuis le 01/01/2024, la Belgique as...   \n",
       "4  <form action=\"/search/results\" backend_node_id...   \n",
       "\n",
       "                             ground_truth_outer_html  retriever_time  \\\n",
       "0  <li backend_node_id=\"142\" class=\"user-links-co...        1.202136   \n",
       "1      <a backend_node_id=\"26\" href=\"front\">past</a>        0.396611   \n",
       "2  <a backend_node_id=\"103\" class=\"font-medium px...        2.135186   \n",
       "3     <span backend_node_id=\"170\">SPF Justice</span>        1.048980   \n",
       "4  <input backend_node_id=\"184\" class=\"submit but...        0.491387   \n",
       "\n",
       "   recall_llm  precision_llm  llm_time  \n",
       "0         0.0            0.0  1.421249  \n",
       "1         1.0            1.0  0.874844  \n",
       "2         1.0            1.0  0.774487  \n",
       "3         0.0            0.0  0.821771  \n",
       "4         1.0            1.0  0.694846  "
      ]
     },
     "execution_count": 12,
     "metadata": {},
     "output_type": "execute_result"
    }
   ],
   "source": [
    "results = pd.concat([retriever_results, llm_results], axis=1)\n",
    "results"
   ]
  },
  {
   "cell_type": "markdown",
   "metadata": {},
   "source": [
    "# Evaluation of full pipeline"
   ]
  },
  {
   "cell_type": "code",
   "execution_count": 13,
   "metadata": {},
   "outputs": [
    {
     "name": "stderr",
     "output_type": "stream",
     "text": [
      "0it [00:00, ?it/s]/home/daniel/miniconda3/envs/lavague/lib/python3.10/site-packages/tree_sitter/__init__.py:36: FutureWarning: Language(path, name) is deprecated. Use Language(ptr, name) instead.\n",
      "  warn(\"{} is deprecated. Use {} instead.\".format(old, new), FutureWarning)\n"
     ]
    },
    {
     "name": "stderr",
     "output_type": "stream",
     "text": [
      "1it [00:01,  1.32s/it]/home/daniel/miniconda3/envs/lavague/lib/python3.10/site-packages/tree_sitter/__init__.py:36: FutureWarning: Language(path, name) is deprecated. Use Language(ptr, name) instead.\n",
      "  warn(\"{} is deprecated. Use {} instead.\".format(old, new), FutureWarning)\n",
      "2it [00:01,  1.23it/s]/home/daniel/miniconda3/envs/lavague/lib/python3.10/site-packages/tree_sitter/__init__.py:36: FutureWarning: Language(path, name) is deprecated. Use Language(ptr, name) instead.\n",
      "  warn(\"{} is deprecated. Use {} instead.\".format(old, new), FutureWarning)\n",
      "3it [00:04,  1.46s/it]/home/daniel/miniconda3/envs/lavague/lib/python3.10/site-packages/tree_sitter/__init__.py:36: FutureWarning: Language(path, name) is deprecated. Use Language(ptr, name) instead.\n",
      "  warn(\"{} is deprecated. Use {} instead.\".format(old, new), FutureWarning)\n",
      "4it [00:05,  1.41s/it]/home/daniel/miniconda3/envs/lavague/lib/python3.10/site-packages/tree_sitter/__init__.py:36: FutureWarning: Language(path, name) is deprecated. Use Language(ptr, name) instead.\n",
      "  warn(\"{} is deprecated. Use {} instead.\".format(old, new), FutureWarning)\n",
      "5it [00:05,  1.17s/it]\n",
      "5it [00:05,  1.07s/it]\n"
     ]
    },
    {
     "data": {
      "text/html": [
       "<div>\n",
       "<style scoped>\n",
       "    .dataframe tbody tr th:only-of-type {\n",
       "        vertical-align: middle;\n",
       "    }\n",
       "\n",
       "    .dataframe tbody tr th {\n",
       "        vertical-align: top;\n",
       "    }\n",
       "\n",
       "    .dataframe thead th {\n",
       "        text-align: right;\n",
       "    }\n",
       "</style>\n",
       "<table border=\"1\" class=\"dataframe\">\n",
       "  <thead>\n",
       "    <tr style=\"text-align: right;\">\n",
       "      <th></th>\n",
       "      <th>recall_retriever</th>\n",
       "      <th>precision_retriever</th>\n",
       "      <th>retriever_time</th>\n",
       "      <th>recall_llm</th>\n",
       "      <th>precision_llm</th>\n",
       "      <th>llm_time</th>\n",
       "    </tr>\n",
       "  </thead>\n",
       "  <tbody>\n",
       "    <tr>\n",
       "      <th>0</th>\n",
       "      <td>1.0</td>\n",
       "      <td>0.083333</td>\n",
       "      <td>1.213714</td>\n",
       "      <td>0.0</td>\n",
       "      <td>0.0</td>\n",
       "      <td>0.891550</td>\n",
       "    </tr>\n",
       "    <tr>\n",
       "      <th>1</th>\n",
       "      <td>1.0</td>\n",
       "      <td>0.030303</td>\n",
       "      <td>0.390518</td>\n",
       "      <td>1.0</td>\n",
       "      <td>1.0</td>\n",
       "      <td>0.922016</td>\n",
       "    </tr>\n",
       "    <tr>\n",
       "      <th>2</th>\n",
       "      <td>1.0</td>\n",
       "      <td>0.050000</td>\n",
       "      <td>2.161623</td>\n",
       "      <td>1.0</td>\n",
       "      <td>1.0</td>\n",
       "      <td>1.076999</td>\n",
       "    </tr>\n",
       "    <tr>\n",
       "      <th>3</th>\n",
       "      <td>1.0</td>\n",
       "      <td>0.041667</td>\n",
       "      <td>1.043746</td>\n",
       "      <td>0.0</td>\n",
       "      <td>0.0</td>\n",
       "      <td>0.903095</td>\n",
       "    </tr>\n",
       "    <tr>\n",
       "      <th>4</th>\n",
       "      <td>0.0</td>\n",
       "      <td>0.000000</td>\n",
       "      <td>0.489357</td>\n",
       "      <td>1.0</td>\n",
       "      <td>1.0</td>\n",
       "      <td>0.838961</td>\n",
       "    </tr>\n",
       "  </tbody>\n",
       "</table>\n",
       "</div>"
      ],
      "text/plain": [
       "   recall_retriever  precision_retriever  retriever_time  recall_llm  \\\n",
       "0               1.0             0.083333        1.213714         0.0   \n",
       "1               1.0             0.030303        0.390518         1.0   \n",
       "2               1.0             0.050000        2.161623         1.0   \n",
       "3               1.0             0.041667        1.043746         0.0   \n",
       "4               0.0             0.000000        0.489357         1.0   \n",
       "\n",
       "   precision_llm  llm_time  \n",
       "0            0.0  0.891550  \n",
       "1            1.0  0.922016  \n",
       "2            1.0  1.076999  \n",
       "3            0.0  0.903095  \n",
       "4            1.0  0.838961  "
      ]
     },
     "execution_count": 13,
     "metadata": {},
     "output_type": "execute_result"
    }
   ],
   "source": [
    "results = evaluator.batch_evaluate(queries, htmls, ground_truths, return_context=False)\n",
    "results"
   ]
  },
  {
   "cell_type": "code",
   "execution_count": 10,
   "metadata": {},
   "outputs": [
    {
     "data": {
      "text/plain": [
       "0.8"
      ]
     },
     "execution_count": 10,
     "metadata": {},
     "output_type": "execute_result"
    }
   ],
   "source": [
    "(results.recall_retriever == 1.0).mean()"
   ]
  },
  {
   "cell_type": "code",
   "execution_count": 11,
   "metadata": {},
   "outputs": [
    {
     "data": {
      "text/plain": [
       "<Axes: >"
      ]
     },
     "execution_count": 11,
     "metadata": {},
     "output_type": "execute_result"
    },
    {
     "data": {
      "image/png": "[encoded data removed]",
      "text/plain": [
       "<Figure size 640x480 with 1 Axes>"
      ]
     },
     "metadata": {},
     "output_type": "display_data"
    }
   ],
   "source": [
    "results.recall_retriever.hist()"
   ]
  },
  {
   "cell_type": "code",
   "execution_count": 12,
   "metadata": {},
   "outputs": [
    {
     "data": {
      "text/plain": [
       "0.6"
      ]
     },
     "execution_count": 12,
     "metadata": {},
     "output_type": "execute_result"
    }
   ],
   "source": [
    "(results.recall_llm == 1.0).mean()"
   ]
  },
  {
   "cell_type": "code",
   "execution_count": 13,
   "metadata": {},
   "outputs": [
    {
     "name": "stdout",
     "output_type": "stream",
     "text": [
      "LLM recall when retriever is right: 0.5\n"
     ]
    },
    {
     "data": {
      "image/png": "[encoded data removed]",
      "text/plain": [
       "<Figure size 640x480 with 1 Axes>"
      ]
     },
     "metadata": {},
     "output_type": "display_data"
    }
   ],
   "source": [
    "right_retriever = results.loc[results.recall_retriever == 1.0]\n",
    "right_retriever.recall_llm.hist()\n",
    "print(f\"LLM recall when retriever is right: {(right_retriever.recall_llm == 1.0).mean()}\")"
   ]
  }
 ],
 "metadata": {
  "kernelspec": {
   "display_name": "lavague",
   "language": "python",
   "name": "python3"
  },
  "language_info": {
   "codemirror_mode": {
    "name": "ipython",
    "version": 3
   },
   "file_extension": ".py",
   "mimetype": "text/x-python",
   "name": "python",
   "nbconvert_exporter": "python",
   "pygments_lexer": "ipython3",
   "version": "3.10.14"
  }
 },
 "nbformat": 4,
 "nbformat_minor": 2
}
